{
 "cells": [
  {
   "cell_type": "code",
   "execution_count": null,
   "id": "e5a3932c",
   "metadata": {},
   "outputs": [],
   "source": [
    "import mppfc\n",
    "import time\n",
    "import random\n",
    "import numpy as np\n",
    "import matplotlib.pyplot as plt"
   ]
  },
  {
   "cell_type": "markdown",
   "id": "f0403f96",
   "metadata": {},
   "source": [
    "### decorate an expansive function for multiprocessing and caching"
   ]
  },
  {
   "cell_type": "code",
   "execution_count": null,
   "id": "5c653d09",
   "metadata": {},
   "outputs": [],
   "source": [
    "@mppfc.MultiProcCachedFunctionDec()\n",
    "def slow_function(x):\n",
    "    \"\"\"some important calculation\"\"\"\n",
    "    time.sleep(2)\n",
    "    return x**2\n",
    "\n",
    "# remove cache from possible former calculation for the sakes of the example\n",
    "import shutil\n",
    "shutil.rmtree(slow_function.cached_fnc.cache_dir)"
   ]
  },
  {
   "cell_type": "markdown",
   "id": "b2e26c40",
   "metadata": {},
   "source": [
    "### start multiprocessing, use 2 processes only"
   ]
  },
  {
   "cell_type": "code",
   "execution_count": null,
   "id": "c7f49e74",
   "metadata": {},
   "outputs": [],
   "source": [
    "slow_function.start_mp(num_proc=2)"
   ]
  },
  {
   "cell_type": "markdown",
   "id": "44b4fa7a",
   "metadata": {},
   "source": [
    "### start the calculation\n",
    "\n",
    "It is precisely the same lines of code as without multiprocessing.\n",
    "The difference is, that results which are not in the cache will return `None`.\n",
    "At the same time, they are queued for calculation, so they will eventually becomes available.\n",
    "\n",
    "It is save to trigger that piece of code as many times as you like.\n",
    "Already queued items will not be queued twice.\n",
    "\n",
    "Since values with `None` (`np.nan`) are simply not plotted in matplotlib, without further processing\n",
    "you can plot the return value. The plot will extend, each time you trigger the cell.\n",
    "\n",
    "Calling `status()` prints status information about the progress of the calculation."
   ]
  },
  {
   "cell_type": "code",
   "execution_count": null,
   "id": "fd3c957d",
   "metadata": {},
   "outputs": [],
   "source": [
    "N = 100\n",
    "x_data = np.linspace(1, 3, N)\n",
    "y_data = np.empty_like(x_data)\n",
    "for i, x in enumerate(x_data):\n",
    "    y = slow_function(x)\n",
    "    y_data[i] = y\n",
    "\n",
    "slow_function.status()\n",
    "plt.plot(x_data, y_data, ls='-', marker='.')"
   ]
  },
  {
   "cell_type": "markdown",
   "id": "67226238",
   "metadata": {},
   "source": [
    "### stop the subprocesses\n",
    "\n",
    "Calling `join()` allows the currently processed item to finish.\n",
    "Once that calculation was done no further items are fetched, and the subprocess returns."
   ]
  },
  {
   "cell_type": "code",
   "execution_count": null,
   "id": "99d27343",
   "metadata": {},
   "outputs": [],
   "source": [
    "slow_function.join()\n",
    "slow_function.status()"
   ]
  },
  {
   "cell_type": "code",
   "execution_count": null,
   "id": "ff520351",
   "metadata": {},
   "outputs": [],
   "source": []
  }
 ],
 "metadata": {
  "kernelspec": {
   "display_name": "Python 3 (ipykernel)",
   "language": "python",
   "name": "python3"
  },
  "language_info": {
   "codemirror_mode": {
    "name": "ipython",
    "version": 3
   },
   "file_extension": ".py",
   "mimetype": "text/x-python",
   "name": "python",
   "nbconvert_exporter": "python",
   "pygments_lexer": "ipython3",
   "version": "3.9.2"
  }
 },
 "nbformat": 4,
 "nbformat_minor": 5
}

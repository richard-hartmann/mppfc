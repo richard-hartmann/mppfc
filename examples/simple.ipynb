{
 "cells": [
  {
   "cell_type": "markdown",
   "id": "8ee63776",
   "metadata": {},
   "source": [
    "# simple example - linear logic\n",
    "\n",
    "This example shows how to speed up a calculation using multi processing and caching via `mppfc` module.\n",
    "\n",
    "The logic here is linear.\n",
    "First, do the calculation in paralell while disregarding the results.\n",
    "After the calculation has finished, calling the calculation a second time will get the results from cache.\n",
    "\n",
    "This means that there is some boilerplate code by splitting the whole procedure into \"calculation\" and \"data collection\" parts."
   ]
  },
  {
   "cell_type": "code",
   "execution_count": null,
   "id": "6460c059",
   "metadata": {},
   "outputs": [],
   "source": [
    "import mppfc\n",
    "import time\n",
    "\n",
    "# number of function calls, each call takes about 2 seconds\n",
    "N = 10"
   ]
  },
  {
   "cell_type": "markdown",
   "id": "7cd02893",
   "metadata": {},
   "source": [
    "### straight forward implementaion"
   ]
  },
  {
   "cell_type": "code",
   "execution_count": null,
   "id": "1d646820",
   "metadata": {},
   "outputs": [],
   "source": [
    "def slow_function(x):\n",
    "    \"\"\"some important calculation\"\"\"\n",
    "    time.sleep(2)\n",
    "    return x"
   ]
  },
  {
   "cell_type": "code",
   "execution_count": null,
   "id": "45a6e0e1",
   "metadata": {},
   "outputs": [],
   "source": [
    "t0 = time.perf_counter_ns()\n",
    "\n",
    "data = []\n",
    "for x in range(N):\n",
    "    y = slow_function(x)\n",
    "    data.append([x, y])\n",
    "\n",
    "time_basic = (time.perf_counter_ns() - t0) / 10**9\n",
    "print(\"straight forward implementation with {} data points takes {:.1f} seconds\".format(len(data), time_basic))"
   ]
  },
  {
   "cell_type": "markdown",
   "id": "ed91bc5f",
   "metadata": {},
   "source": [
    "### same code with mppfc decorator"
   ]
  },
  {
   "cell_type": "code",
   "execution_count": null,
   "id": "c3d0e1e3",
   "metadata": {},
   "outputs": [],
   "source": [
    "@mppfc.MultiProcCachedFunctionDec()\n",
    "def slow_function(x):\n",
    "    \"\"\"some important calculation\"\"\"\n",
    "    time.sleep(2)\n",
    "    return x"
   ]
  },
  {
   "cell_type": "markdown",
   "id": "9af01576",
   "metadata": {},
   "source": [
    "### split routine in \"calculation\"\n",
    "\n",
    "We start the multiprocessing mode with `start_mp()` and simply call our function `slow_function` without caring about its results.By calling `wait()`, we wait until all parameters have been processed and cached to disk."
   ]
  },
  {
   "cell_type": "code",
   "execution_count": null,
   "id": "ca8155e6",
   "metadata": {},
   "outputs": [],
   "source": [
    "# remove cache from possible former calculation for the sakes of the example\n",
    "import shutil\n",
    "shutil.rmtree(slow_function.cache_dir)\n",
    "\n",
    "t0 = time.perf_counter_ns()\n",
    "\n",
    "# Here we use 2 subprocesses.\n",
    "# You can also use 'all' to use as many processes as cores available\n",
    "# or specify a portion of them by passing a float within the interval (0.0, 1.0].\n",
    "# A negative int specifies the number of cores NOT to use.\n",
    "slow_function.start_mp(num_proc=2)\n",
    "\n",
    "# now, calling slow_function will pass the argument to a subprocesses and return immediately.\n",
    "t1 = time.perf_counter_ns()\n",
    "for x in range(N):\n",
    "    slow_function(x)\n",
    "t2 = time.perf_counter_ns()\n",
    "print(\"calling the function returns nearly immediately, {:.3g}s\".format((t2-t1) / 10**9))\n",
    "\n",
    "# wait until all arguments have been processed\n",
    "# show the status every second\n",
    "slow_function.wait(status_interval_in_sec=1)   \n",
    "\n",
    "t3 = time.perf_counter_ns()\n",
    "time_mppfc = (time.perf_counter_ns() - t0) / 10**9\n",
    "print(\"mp accelerated calculation takes {:.3g} seconds\".format(time_mppfc))"
   ]
  },
  {
   "cell_type": "markdown",
   "id": "b67e474b",
   "metadata": {},
   "source": [
    "### ... and \"data collection\"\n",
    "\n",
    "Now we can call `slow_function` as usual and use its return value.\n",
    "Adding the `_cache_flag=\"cache_only\"` parameter is not necessary.\n",
    "However, it emphasizes that all results are taken from the cache."
   ]
  },
  {
   "cell_type": "code",
   "execution_count": null,
   "id": "8347c69d",
   "metadata": {},
   "outputs": [],
   "source": [
    "t0 = time.perf_counter_ns()\n",
    "\n",
    "data = []\n",
    "for x in range(N):\n",
    "    y = slow_function(x)\n",
    "    data.append([x, y])\n",
    "\n",
    "time_cache = (time.perf_counter_ns() - t0) / 10**9\n",
    "print(\"fill data from cache takes {:.3g} seconds\".format(time_cache))"
   ]
  }
 ],
 "metadata": {
  "kernelspec": {
   "display_name": "Python 3 (ipykernel)",
   "language": "python",
   "name": "python3"
  },
  "language_info": {
   "codemirror_mode": {
    "name": "ipython",
    "version": 3
   },
   "file_extension": ".py",
   "mimetype": "text/x-python",
   "name": "python",
   "nbconvert_exporter": "python",
   "pygments_lexer": "ipython3",
   "version": "3.9.7"
  }
 },
 "nbformat": 4,
 "nbformat_minor": 5
}
